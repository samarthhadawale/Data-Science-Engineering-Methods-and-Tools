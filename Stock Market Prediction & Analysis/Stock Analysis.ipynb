{
 "cells": [
  {
   "cell_type": "markdown",
   "metadata": {},
   "source": [
    "Let's compare the stock prices of Amazon, Costco and Warner!"
   ]
  },
  {
   "cell_type": "code",
   "execution_count": 6,
   "metadata": {},
   "outputs": [
    {
     "data": {
      "text/html": [
       "<div>\n",
       "<style scoped>\n",
       "    .dataframe tbody tr th:only-of-type {\n",
       "        vertical-align: middle;\n",
       "    }\n",
       "\n",
       "    .dataframe tbody tr th {\n",
       "        vertical-align: top;\n",
       "    }\n",
       "\n",
       "    .dataframe thead tr th {\n",
       "        text-align: left;\n",
       "    }\n",
       "\n",
       "    .dataframe thead tr:last-of-type th {\n",
       "        text-align: right;\n",
       "    }\n",
       "</style>\n",
       "<table border=\"1\" class=\"dataframe\">\n",
       "  <thead>\n",
       "    <tr>\n",
       "      <th>Attributes</th>\n",
       "      <th colspan=\"3\" halign=\"left\">Adj Close</th>\n",
       "      <th colspan=\"3\" halign=\"left\">Close</th>\n",
       "      <th colspan=\"3\" halign=\"left\">High</th>\n",
       "      <th colspan=\"3\" halign=\"left\">Low</th>\n",
       "      <th colspan=\"3\" halign=\"left\">Open</th>\n",
       "      <th colspan=\"3\" halign=\"left\">Volume</th>\n",
       "    </tr>\n",
       "    <tr>\n",
       "      <th>Symbols</th>\n",
       "      <th>AMZN</th>\n",
       "      <th>COST</th>\n",
       "      <th>TWX</th>\n",
       "      <th>AMZN</th>\n",
       "      <th>COST</th>\n",
       "      <th>TWX</th>\n",
       "      <th>AMZN</th>\n",
       "      <th>COST</th>\n",
       "      <th>TWX</th>\n",
       "      <th>AMZN</th>\n",
       "      <th>COST</th>\n",
       "      <th>TWX</th>\n",
       "      <th>AMZN</th>\n",
       "      <th>COST</th>\n",
       "      <th>TWX</th>\n",
       "      <th>AMZN</th>\n",
       "      <th>COST</th>\n",
       "      <th>TWX</th>\n",
       "    </tr>\n",
       "    <tr>\n",
       "      <th>Date</th>\n",
       "      <th></th>\n",
       "      <th></th>\n",
       "      <th></th>\n",
       "      <th></th>\n",
       "      <th></th>\n",
       "      <th></th>\n",
       "      <th></th>\n",
       "      <th></th>\n",
       "      <th></th>\n",
       "      <th></th>\n",
       "      <th></th>\n",
       "      <th></th>\n",
       "      <th></th>\n",
       "      <th></th>\n",
       "      <th></th>\n",
       "      <th></th>\n",
       "      <th></th>\n",
       "      <th></th>\n",
       "    </tr>\n",
       "  </thead>\n",
       "  <tbody>\n",
       "    <tr>\n",
       "      <td>2016-01-04</td>\n",
       "      <td>636.989990</td>\n",
       "      <td>146.833557</td>\n",
       "      <td>64.919998</td>\n",
       "      <td>636.989990</td>\n",
       "      <td>159.539993</td>\n",
       "      <td>64.919998</td>\n",
       "      <td>657.719971</td>\n",
       "      <td>160.100006</td>\n",
       "      <td>64.989998</td>\n",
       "      <td>627.510010</td>\n",
       "      <td>157.869995</td>\n",
       "      <td>63.500000</td>\n",
       "      <td>656.289978</td>\n",
       "      <td>159.809998</td>\n",
       "      <td>63.740002</td>\n",
       "      <td>9314500.0</td>\n",
       "      <td>2640800.0</td>\n",
       "      <td>8369233.0</td>\n",
       "    </tr>\n",
       "    <tr>\n",
       "      <td>2016-01-05</td>\n",
       "      <td>633.789978</td>\n",
       "      <td>147.192474</td>\n",
       "      <td>65.519997</td>\n",
       "      <td>633.789978</td>\n",
       "      <td>159.929993</td>\n",
       "      <td>65.519997</td>\n",
       "      <td>646.909973</td>\n",
       "      <td>161.229996</td>\n",
       "      <td>65.589996</td>\n",
       "      <td>627.650024</td>\n",
       "      <td>159.449997</td>\n",
       "      <td>64.400101</td>\n",
       "      <td>646.859985</td>\n",
       "      <td>160.169998</td>\n",
       "      <td>65.180000</td>\n",
       "      <td>5822600.0</td>\n",
       "      <td>2127700.0</td>\n",
       "      <td>8300388.0</td>\n",
       "    </tr>\n",
       "    <tr>\n",
       "      <td>2016-01-06</td>\n",
       "      <td>632.650024</td>\n",
       "      <td>145.830368</td>\n",
       "      <td>68.620003</td>\n",
       "      <td>632.650024</td>\n",
       "      <td>158.449997</td>\n",
       "      <td>68.620003</td>\n",
       "      <td>639.789978</td>\n",
       "      <td>159.800003</td>\n",
       "      <td>69.489998</td>\n",
       "      <td>620.309998</td>\n",
       "      <td>157.630005</td>\n",
       "      <td>64.239998</td>\n",
       "      <td>622.000000</td>\n",
       "      <td>158.360001</td>\n",
       "      <td>64.379997</td>\n",
       "      <td>5329200.0</td>\n",
       "      <td>2033400.0</td>\n",
       "      <td>15323750.0</td>\n",
       "    </tr>\n",
       "    <tr>\n",
       "      <td>2016-01-07</td>\n",
       "      <td>607.940002</td>\n",
       "      <td>142.489471</td>\n",
       "      <td>70.199997</td>\n",
       "      <td>607.940002</td>\n",
       "      <td>154.820007</td>\n",
       "      <td>70.199997</td>\n",
       "      <td>630.000000</td>\n",
       "      <td>157.059998</td>\n",
       "      <td>71.540001</td>\n",
       "      <td>605.210022</td>\n",
       "      <td>153.550003</td>\n",
       "      <td>67.500000</td>\n",
       "      <td>621.799988</td>\n",
       "      <td>154.850006</td>\n",
       "      <td>67.739998</td>\n",
       "      <td>7074900.0</td>\n",
       "      <td>3826000.0</td>\n",
       "      <td>22002867.0</td>\n",
       "    </tr>\n",
       "    <tr>\n",
       "      <td>2016-01-08</td>\n",
       "      <td>607.049988</td>\n",
       "      <td>139.995300</td>\n",
       "      <td>71.169998</td>\n",
       "      <td>607.049988</td>\n",
       "      <td>152.110001</td>\n",
       "      <td>71.169998</td>\n",
       "      <td>624.140015</td>\n",
       "      <td>155.300003</td>\n",
       "      <td>73.580002</td>\n",
       "      <td>606.000000</td>\n",
       "      <td>151.809998</td>\n",
       "      <td>70.970001</td>\n",
       "      <td>619.659973</td>\n",
       "      <td>155.279999</td>\n",
       "      <td>72.540001</td>\n",
       "      <td>5512900.0</td>\n",
       "      <td>3156200.0</td>\n",
       "      <td>22250416.0</td>\n",
       "    </tr>\n",
       "  </tbody>\n",
       "</table>\n",
       "</div>"
      ],
      "text/plain": [
       "Attributes   Adj Close                              Close              \\\n",
       "Symbols           AMZN        COST        TWX        AMZN        COST   \n",
       "Date                                                                    \n",
       "2016-01-04  636.989990  146.833557  64.919998  636.989990  159.539993   \n",
       "2016-01-05  633.789978  147.192474  65.519997  633.789978  159.929993   \n",
       "2016-01-06  632.650024  145.830368  68.620003  632.650024  158.449997   \n",
       "2016-01-07  607.940002  142.489471  70.199997  607.940002  154.820007   \n",
       "2016-01-08  607.049988  139.995300  71.169998  607.049988  152.110001   \n",
       "\n",
       "Attributes                   High                                Low  \\\n",
       "Symbols           TWX        AMZN        COST        TWX        AMZN   \n",
       "Date                                                                   \n",
       "2016-01-04  64.919998  657.719971  160.100006  64.989998  627.510010   \n",
       "2016-01-05  65.519997  646.909973  161.229996  65.589996  627.650024   \n",
       "2016-01-06  68.620003  639.789978  159.800003  69.489998  620.309998   \n",
       "2016-01-07  70.199997  630.000000  157.059998  71.540001  605.210022   \n",
       "2016-01-08  71.169998  624.140015  155.300003  73.580002  606.000000   \n",
       "\n",
       "Attributes                               Open                         \\\n",
       "Symbols           COST        TWX        AMZN        COST        TWX   \n",
       "Date                                                                   \n",
       "2016-01-04  157.869995  63.500000  656.289978  159.809998  63.740002   \n",
       "2016-01-05  159.449997  64.400101  646.859985  160.169998  65.180000   \n",
       "2016-01-06  157.630005  64.239998  622.000000  158.360001  64.379997   \n",
       "2016-01-07  153.550003  67.500000  621.799988  154.850006  67.739998   \n",
       "2016-01-08  151.809998  70.970001  619.659973  155.279999  72.540001   \n",
       "\n",
       "Attributes     Volume                         \n",
       "Symbols          AMZN       COST         TWX  \n",
       "Date                                          \n",
       "2016-01-04  9314500.0  2640800.0   8369233.0  \n",
       "2016-01-05  5822600.0  2127700.0   8300388.0  \n",
       "2016-01-06  5329200.0  2033400.0  15323750.0  \n",
       "2016-01-07  7074900.0  3826000.0  22002867.0  \n",
       "2016-01-08  5512900.0  3156200.0  22250416.0  "
      ]
     },
     "execution_count": 6,
     "metadata": {},
     "output_type": "execute_result"
    }
   ],
   "source": [
    "import pandas as pd\n",
    "pd.core.common.is_list_like = pd.api.types.is_list_like\n",
    "\n",
    "import pandas_datareader as web\n",
    "import datetime\n",
    "start = datetime.datetime(2016, 1, 1)\n",
    "end = datetime.datetime(2019, 1, 30)\n",
    "stocks = web.DataReader(['AMZN','COST','TWX'], 'yahoo', start, end)\n",
    "stocks.head()"
   ]
  },
  {
   "cell_type": "markdown",
   "metadata": {},
   "source": [
    "Plotting the stocks would give a clearer picture of the trends in stocks of the three companies and we know what to use for plotting!"
   ]
  },
  {
   "cell_type": "code",
   "execution_count": 7,
   "metadata": {},
   "outputs": [
    {
     "data": {
      "text/plain": [
       "<matplotlib.axes._subplots.AxesSubplot at 0x19ac7d9cac8>"
      ]
     },
     "execution_count": 7,
     "metadata": {},
     "output_type": "execute_result"
    },
    {
     "data": {
      "image/png": "[encoded data removed]",
      "text/plain": [
       "<Figure size 432x288 with 1 Axes>"
      ]
     },
     "metadata": {
      "needs_background": "light"
     },
     "output_type": "display_data"
    }
   ],
   "source": [
    "# Plotting 'High' price of all the three companies using matplotlib library\n",
    "\n",
    "import matplotlib.pyplot as plt\n",
    "%matplotlib inline\n",
    "vol = stocks['High']\n",
    "vol.plot()"
   ]
  },
  {
   "cell_type": "code",
   "execution_count": 9,
   "metadata": {},
   "outputs": [
    {
     "data": {
      "text/plain": [
       "<matplotlib.axes._subplots.AxesSubplot at 0x19ac7ca7e48>"
      ]
     },
     "execution_count": 9,
     "metadata": {},
     "output_type": "execute_result"
    },
    {
     "data": {
      "image/png": "[encoded data removed]",
      "text/plain": [
       "<Figure size 432x288 with 1 Axes>"
      ]
     },
     "metadata": {
      "needs_background": "light"
     },
     "output_type": "display_data"
    }
   ],
   "source": [
    "# Plotting 'Close' price of all the three companies using matplotlib library\n",
    "\n",
    "close = stocks['Close']\n",
    "close.plot()"
   ]
  },
  {
   "cell_type": "markdown",
   "metadata": {},
   "source": [
    "As you can see, Amazon's stock prices are on the higher side when compared to the other two companies, now you know where to invest!"
   ]
  }
 ],
 "metadata": {
  "kernelspec": {
   "display_name": "Python 3",
   "language": "python",
   "name": "python3"
  },
  "language_info": {
   "codemirror_mode": {
    "name": "ipython",
    "version": 3
   },
   "file_extension": ".py",
   "mimetype": "text/x-python",
   "name": "python",
   "nbconvert_exporter": "python",
   "pygments_lexer": "ipython3",
   "version": "3.7.4"
  }
 },
 "nbformat": 4,
 "nbformat_minor": 2
}
