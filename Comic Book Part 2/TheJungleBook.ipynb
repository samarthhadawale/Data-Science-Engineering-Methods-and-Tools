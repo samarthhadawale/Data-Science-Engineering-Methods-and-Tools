{
  "nbformat": 4,
  "nbformat_minor": 0,
  "metadata": {
    "kernelspec": {
      "display_name": "Python 3",
      "language": "python",
      "name": "python3"
    },
    "language_info": {
      "codemirror_mode": {
        "name": "ipython",
        "version": 3
      },
      "file_extension": ".py",
      "mimetype": "text/x-python",
      "name": "python",
      "nbconvert_exporter": "python",
      "pygments_lexer": "ipython3",
      "version": "3.7.4"
    },
    "colab": {
      "name": "TheJungleBook.ipynb",
      "provenance": [],
      "collapsed_sections": []
    }
  },
  "cells": [
    {
      "cell_type": "code",
      "metadata": {
        "id": "Xa-NvJOMUYOp",
        "colab_type": "code",
        "colab": {}
      },
      "source": [
        "from IPython.display import Image\n",
        "from os import listdir\n",
        "from os.path import isfile, join\n",
        "from PIL import Image as pili, ImageOps as piliops\n",
        "from PIL import Image as pili, ImageDraw as pild, ImageFont as pilf\n",
        "from PIL import Image, ImageFont, ImageDraw\n",
        "import pandas as pd\n",
        "mypath = 'fimages/'\n",
        "onlyfiles = ['fimages/'+f for f in listdir(mypath) if isfile(join(mypath, f))]\n",
        "mypath1 = 'bordered/'\n",
        "onlyfiles1 = ['bordered/'+f for f in listdir(mypath1) if isfile(join(mypath1, f))]\n",
        "\n",
        "length = len(onlyfiles)\n",
        "i=0\n",
        "while i<length:\n",
        "    piliops.expand(pili.open(onlyfiles[i]),border=(40,40),fill=(77,0,0)).save(onlyfiles1[i])\n",
        "    i += 1"
      ],
      "execution_count": 0,
      "outputs": []
    },
    {
      "cell_type": "code",
      "metadata": {
        "id": "yxNhOf_eUYOu",
        "colab_type": "code",
        "colab": {}
      },
      "source": [
        ""
      ],
      "execution_count": 0,
      "outputs": []
    },
    {
      "cell_type": "code",
      "metadata": {
        "id": "jZ5njMERUYOx",
        "colab_type": "code",
        "colab": {}
      },
      "source": [
        "mypath2 = 'subtitle/'\n",
        "onlyfiles2 = ['subtitle/'+f for f in listdir(mypath2) if isfile(join(mypath2, f))]"
      ],
      "execution_count": 0,
      "outputs": []
    },
    {
      "cell_type": "code",
      "metadata": {
        "id": "w7FEsovSUYOz",
        "colab_type": "code",
        "colab": {},
        "outputId": "a22afe4a-11d8-442e-9892-2ee0b17e9d0c"
      },
      "source": [
        "onlyfiles2 "
      ],
      "execution_count": 0,
      "outputs": [
        {
          "output_type": "execute_result",
          "data": {
            "text/plain": [
              "['subtitle/A1.jpg',\n",
              " 'subtitle/A2.jpg',\n",
              " 'subtitle/A3.jpg',\n",
              " 'subtitle/A4.jpg',\n",
              " 'subtitle/A5.jpg',\n",
              " 'subtitle/A6.jpg',\n",
              " 'subtitle/A7.jpg',\n",
              " 'subtitle/A8.jpg',\n",
              " 'subtitle/A9.jpg',\n",
              " 'subtitle/B1.jpg',\n",
              " 'subtitle/B2.jpg',\n",
              " 'subtitle/B3.jpg',\n",
              " 'subtitle/B4.png',\n",
              " 'subtitle/B5.jpg',\n",
              " 'subtitle/B6.jpg',\n",
              " 'subtitle/B7.png',\n",
              " 'subtitle/B8.png',\n",
              " 'subtitle/B9.jpg',\n",
              " 'subtitle/C1.png',\n",
              " 'subtitle/C2.jpg',\n",
              " 'subtitle/C3.jpg',\n",
              " 'subtitle/C4.jpg',\n",
              " 'subtitle/C5.jpg',\n",
              " 'subtitle/C6.jpg',\n",
              " 'subtitle/C7.jpg',\n",
              " 'subtitle/C8.jpg',\n",
              " 'subtitle/C9.jpg',\n",
              " 'subtitle/D1.jpg',\n",
              " 'subtitle/D2.jpg',\n",
              " 'subtitle/D3.png',\n",
              " 'subtitle/D4.jpg',\n",
              " 'subtitle/D5.jpg',\n",
              " 'subtitle/D6.jpg',\n",
              " 'subtitle/D7.jpg',\n",
              " 'subtitle/D8.jpg',\n",
              " 'subtitle/D9.jpg',\n",
              " 'subtitle/E1.jpg',\n",
              " 'subtitle/E2.jpg',\n",
              " 'subtitle/E3.jpg',\n",
              " 'subtitle/E4.jpg',\n",
              " 'subtitle/E5.png',\n",
              " 'subtitle/E6.jpg',\n",
              " 'subtitle/E7.png',\n",
              " 'subtitle/E8.jpg',\n",
              " 'subtitle/E9.jpg',\n",
              " 'subtitle/F1.jpg',\n",
              " 'subtitle/F2.jpg',\n",
              " 'subtitle/F3.JPG',\n",
              " 'subtitle/F4.jpg',\n",
              " 'subtitle/F5.jpg',\n",
              " 'subtitle/F6.jpg',\n",
              " 'subtitle/F7.jpg',\n",
              " 'subtitle/F8.jfif',\n",
              " 'subtitle/F9.jpg',\n",
              " 'subtitle/G1.png',\n",
              " 'subtitle/G2.jpg',\n",
              " 'subtitle/G3.jpg',\n",
              " 'subtitle/G4.jpg',\n",
              " 'subtitle/G5.jpg',\n",
              " 'subtitle/G6.jpg',\n",
              " 'subtitle/G7.jpg',\n",
              " 'subtitle/G8.jpg',\n",
              " 'subtitle/G9.jpeg',\n",
              " 'subtitle/H1.jpg',\n",
              " 'subtitle/H2.jpg',\n",
              " 'subtitle/H3.jpg',\n",
              " 'subtitle/H4.jpg',\n",
              " 'subtitle/H5.jpg',\n",
              " 'subtitle/H6.jpg',\n",
              " 'subtitle/H7.jpg',\n",
              " 'subtitle/H8.png',\n",
              " 'subtitle/H9.jpg',\n",
              " 'subtitle/I1.png',\n",
              " 'subtitle/I2.jpg',\n",
              " 'subtitle/I3.jpg',\n",
              " 'subtitle/I4.jpg',\n",
              " 'subtitle/I5.jpg',\n",
              " 'subtitle/I6.jpg',\n",
              " 'subtitle/I7.jpg',\n",
              " 'subtitle/I8.jpg',\n",
              " 'subtitle/I9.png',\n",
              " 'subtitle/J1.jpg',\n",
              " 'subtitle/J2.jpg',\n",
              " 'subtitle/J4.jpg',\n",
              " 'subtitle/J5.png',\n",
              " 'subtitle/J6.jpg',\n",
              " 'subtitle/J7.jpg',\n",
              " 'subtitle/J8.png',\n",
              " 'subtitle/J9.jpg',\n",
              " 'subtitle/K1.jpg',\n",
              " 'subtitle/K2.jpg',\n",
              " 'subtitle/K3.png',\n",
              " 'subtitle/K4.jpg',\n",
              " 'subtitle/K5.jpg',\n",
              " 'subtitle/K6.jpg',\n",
              " 'subtitle/K7.jpg',\n",
              " 'subtitle/K8.jpg',\n",
              " 'subtitle/K9.png',\n",
              " 'subtitle/L1.png']"
            ]
          },
          "metadata": {
            "tags": []
          },
          "execution_count": 38
        }
      ]
    },
    {
      "cell_type": "code",
      "metadata": {
        "id": "JuDMZCODUYO5",
        "colab_type": "code",
        "colab": {},
        "outputId": "14be3c53-d645-4666-c055-5d9127be4428"
      },
      "source": [
        "from IPython.display import Image\n",
        "from os import listdir\n",
        "from os.path import isfile, join\n",
        "from PIL import Image as pili, ImageOps as piliops\n",
        "from PIL import Image as pili, ImageDraw as pild, ImageFont as pilf\n",
        "from PIL import Image, ImageFont, ImageDraw\n",
        "import pandas as pd\n",
        "data = pd.read_csv('Book3.csv')\n",
        "#mypath = 'toons/mowgli/'\n",
        "#onlyfiles = ['toons/mowgli/'+f for f in listdir(mypath) if isfile(join(mypath, f))]\n",
        "mypath1 = 'bordered/'\n",
        "onlyfiles1 = ['bordered/'+f for f in listdir(mypath1) if isfile(join(mypath1, f))]\n",
        "mypath2 = 'subtitle/'\n",
        "onlyfiles2 = ['subtitle/'+f for f in listdir(mypath2) if isfile(join(mypath2, f))]\n",
        "length = len(onlyfiles)\n",
        "i=0\n",
        "while i<length:\n",
        "    #piliops.expand(pili.open(onlyfiles[i]),border=(40,40),fill=(77,0,0)).save(onlyfiles1[i])\n",
        "    caption = data.values[i][0]\n",
        "    TINT_COLOR = (0, 0, 0)  # Black\n",
        "    TRANSPARENCY = .75  # Degree of transparency, 0-100%\n",
        "    OPACITY = int(255 * TRANSPARENCY)\n",
        "    img = pili.open(onlyfiles1[i]).convert('RGBA')\n",
        "    overlay = pili.new('RGBA', img.size, TINT_COLOR+(0,))\n",
        "    draw = pild.Draw(overlay)\n",
        "    font = pilf.truetype(\"comic.ttf\", 45)\n",
        "    #x, y = (img.width - 510, img.height-100)\n",
        "    text = caption\n",
        "    w, h = font.getsize(text)\n",
        "    num_lines = len(text.split('\\n'))\n",
        "    print(num_lines, 50, 50)\n",
        "    x, y = 80, img.height - (((num_lines-0.1*num_lines)*h)+100)\n",
        "    #draw.rectangle((x, y, x + w, y + h), fill='black')\n",
        "    #draw.rectangle((x, y, x + w, y + 4*h), fill=TINT_COLOR+(OPACITY,))\n",
        "    draw.rectangle((x, y, x + img.width - 200, y + (num_lines-0.1*num_lines)*h), fill=TINT_COLOR+(OPACITY,))\n",
        "    draw.text((x, y), text, fill=(255, 255, 255), font=font)\n",
        "    # Alpha composite these two images together to obtain the desired result.\n",
        "    img = pili.alpha_composite(img, overlay)\n",
        "    img = img.convert(\"RGB\") # Remove alpha for saving in jpg format.\n",
        "    img.save(onlyfiles2[i])\n",
        "    i += 1"
      ],
      "execution_count": 0,
      "outputs": [
        {
          "output_type": "stream",
          "text": [
            "2 50 50\n",
            "3 50 50\n",
            "4 50 50\n",
            "1 50 50\n",
            "2 50 50\n",
            "1 50 50\n",
            "2 50 50\n",
            "1 50 50\n",
            "2 50 50\n",
            "1 50 50\n",
            "2 50 50\n",
            "2 50 50\n",
            "2 50 50\n",
            "2 50 50\n",
            "2 50 50\n",
            "1 50 50\n",
            "1 50 50\n",
            "1 50 50\n",
            "1 50 50\n",
            "2 50 50\n",
            "2 50 50\n",
            "2 50 50\n",
            "2 50 50\n",
            "2 50 50\n",
            "1 50 50\n",
            "2 50 50\n",
            "1 50 50\n",
            "1 50 50\n",
            "1 50 50\n",
            "1 50 50\n",
            "1 50 50\n",
            "2 50 50\n",
            "1 50 50\n",
            "2 50 50\n",
            "1 50 50\n",
            "2 50 50\n",
            "2 50 50\n",
            "1 50 50\n",
            "1 50 50\n",
            "1 50 50\n",
            "2 50 50\n",
            "2 50 50\n",
            "2 50 50\n",
            "2 50 50\n",
            "1 50 50\n",
            "2 50 50\n",
            "2 50 50\n",
            "1 50 50\n",
            "2 50 50\n",
            "1 50 50\n",
            "1 50 50\n",
            "1 50 50\n",
            "1 50 50\n",
            "1 50 50\n",
            "1 50 50\n",
            "1 50 50\n",
            "2 50 50\n",
            "1 50 50\n",
            "2 50 50\n",
            "2 50 50\n",
            "2 50 50\n",
            "1 50 50\n",
            "2 50 50\n",
            "1 50 50\n",
            "1 50 50\n",
            "2 50 50\n",
            "2 50 50\n",
            "2 50 50\n",
            "1 50 50\n",
            "1 50 50\n",
            "1 50 50\n",
            "2 50 50\n",
            "2 50 50\n",
            "1 50 50\n",
            "1 50 50\n",
            "1 50 50\n",
            "2 50 50\n",
            "2 50 50\n",
            "1 50 50\n",
            "1 50 50\n",
            "1 50 50\n",
            "1 50 50\n",
            "1 50 50\n",
            "2 50 50\n",
            "1 50 50\n",
            "2 50 50\n",
            "1 50 50\n",
            "1 50 50\n",
            "1 50 50\n",
            "1 50 50\n",
            "1 50 50\n",
            "1 50 50\n",
            "1 50 50\n",
            "1 50 50\n",
            "1 50 50\n",
            "1 50 50\n",
            "2 50 50\n",
            "1 50 50\n",
            "1 50 50\n"
          ],
          "name": "stdout"
        },
        {
          "output_type": "error",
          "ename": "IndexError",
          "evalue": "index 99 is out of bounds for axis 0 with size 99",
          "traceback": [
            "\u001b[1;31m---------------------------------------------------------------------------\u001b[0m",
            "\u001b[1;31mIndexError\u001b[0m                                Traceback (most recent call last)",
            "\u001b[1;32m<ipython-input-41-debf4b695b69>\u001b[0m in \u001b[0;36m<module>\u001b[1;34m\u001b[0m\n\u001b[0;32m     17\u001b[0m \u001b[1;32mwhile\u001b[0m \u001b[0mi\u001b[0m\u001b[1;33m<\u001b[0m\u001b[0mlength\u001b[0m\u001b[1;33m:\u001b[0m\u001b[1;33m\u001b[0m\u001b[1;33m\u001b[0m\u001b[0m\n\u001b[0;32m     18\u001b[0m     \u001b[1;31m#piliops.expand(pili.open(onlyfiles[i]),border=(40,40),fill=(77,0,0)).save(onlyfiles1[i])\u001b[0m\u001b[1;33m\u001b[0m\u001b[1;33m\u001b[0m\u001b[1;33m\u001b[0m\u001b[0m\n\u001b[1;32m---> 19\u001b[1;33m     \u001b[0mcaption\u001b[0m \u001b[1;33m=\u001b[0m \u001b[0mdata\u001b[0m\u001b[1;33m.\u001b[0m\u001b[0mvalues\u001b[0m\u001b[1;33m[\u001b[0m\u001b[0mi\u001b[0m\u001b[1;33m]\u001b[0m\u001b[1;33m[\u001b[0m\u001b[1;36m0\u001b[0m\u001b[1;33m]\u001b[0m\u001b[1;33m\u001b[0m\u001b[1;33m\u001b[0m\u001b[0m\n\u001b[0m\u001b[0;32m     20\u001b[0m     \u001b[0mTINT_COLOR\u001b[0m \u001b[1;33m=\u001b[0m \u001b[1;33m(\u001b[0m\u001b[1;36m0\u001b[0m\u001b[1;33m,\u001b[0m \u001b[1;36m0\u001b[0m\u001b[1;33m,\u001b[0m \u001b[1;36m0\u001b[0m\u001b[1;33m)\u001b[0m  \u001b[1;31m# Black\u001b[0m\u001b[1;33m\u001b[0m\u001b[1;33m\u001b[0m\u001b[0m\n\u001b[0;32m     21\u001b[0m     \u001b[0mTRANSPARENCY\u001b[0m \u001b[1;33m=\u001b[0m \u001b[1;36m.75\u001b[0m  \u001b[1;31m# Degree of transparency, 0-100%\u001b[0m\u001b[1;33m\u001b[0m\u001b[1;33m\u001b[0m\u001b[0m\n",
            "\u001b[1;31mIndexError\u001b[0m: index 99 is out of bounds for axis 0 with size 99"
          ]
        }
      ]
    },
    {
      "cell_type": "code",
      "metadata": {
        "id": "_FZ_yEovUYO8",
        "colab_type": "code",
        "colab": {},
        "outputId": "432d21c4-a18a-4a4b-f6db-fc44e00a4388"
      },
      "source": [
        "len(df)"
      ],
      "execution_count": 0,
      "outputs": [
        {
          "output_type": "execute_result",
          "data": {
            "text/plain": [
              "99"
            ]
          },
          "metadata": {
            "tags": []
          },
          "execution_count": 33
        }
      ]
    },
    {
      "cell_type": "code",
      "metadata": {
        "id": "xBzp1qecUYO_",
        "colab_type": "code",
        "colab": {},
        "outputId": "341c18aa-ca76-4777-8ff2-5c1c48c4aaf0"
      },
      "source": [
        "pip install fpdf"
      ],
      "execution_count": 0,
      "outputs": [
        {
          "output_type": "stream",
          "text": [
            "Collecting fpdf\n",
            "  Downloading https://files.pythonhosted.org/packages/37/c6/608a9e6c172bf9124aa687ec8b9f0e8e5d697d59a5f4fad0e2d5ec2a7556/fpdf-1.7.2.tar.gz\n",
            "Building wheels for collected packages: fpdf\n",
            "  Building wheel for fpdf (setup.py): started\n",
            "  Building wheel for fpdf (setup.py): finished with status 'done'\n",
            "  Created wheel for fpdf: filename=fpdf-1.7.2-py2.py3-none-any.whl size=40725 sha256=75fc4feef7eb3a08ac64ddf78de05c7c37a6e879ba2b3536f638f294784d41fa\n",
            "  Stored in directory: C:\\Users\\hp\\AppData\\Local\\pip\\Cache\\wheels\\9a\\e9\\77\\4554ff5c99bc3f487c8d69620d8c41d99d54e9c54ab20ef4c9\n",
            "Successfully built fpdf\n",
            "Installing collected packages: fpdf\n",
            "Successfully installed fpdf-1.7.2\n",
            "Note: you may need to restart the kernel to use updated packages.\n"
          ],
          "name": "stdout"
        }
      ]
    },
    {
      "cell_type": "code",
      "metadata": {
        "id": "YKzroTB_UYPC",
        "colab_type": "code",
        "colab": {},
        "outputId": "d4d4b79d-245c-4388-a8e3-47f9a4a68fbf"
      },
      "source": [
        "pip install PIL"
      ],
      "execution_count": 0,
      "outputs": [
        {
          "output_type": "stream",
          "text": [
            "Collecting PIL\n",
            "Note: you may need to restart the kernel to use updated packages.\n"
          ],
          "name": "stdout"
        },
        {
          "output_type": "stream",
          "text": [
            "  ERROR: Could not find a version that satisfies the requirement PIL (from versions: none)\n",
            "ERROR: No matching distribution found for PIL\n"
          ],
          "name": "stderr"
        }
      ]
    },
    {
      "cell_type": "code",
      "metadata": {
        "id": "EKAKSlJaUYPF",
        "colab_type": "code",
        "colab": {},
        "outputId": "e90c846d-c3e1-4c24-b7f7-9c65ae661b1b"
      },
      "source": [
        "len(onlyfiles2)"
      ],
      "execution_count": 0,
      "outputs": [
        {
          "output_type": "execute_result",
          "data": {
            "text/plain": [
              "99"
            ]
          },
          "metadata": {
            "tags": []
          },
          "execution_count": 32
        }
      ]
    },
    {
      "cell_type": "code",
      "metadata": {
        "id": "PHCvjsw8UYPI",
        "colab_type": "code",
        "colab": {}
      },
      "source": [
        "from PIL import Image as pili, ImageOps as piliops\n",
        "from PIL import Image as pili, ImageDraw as pild, ImageFont as pilf\n",
        "from PIL import Image, ImageFont, ImageDraw\n",
        "import PIL"
      ],
      "execution_count": 0,
      "outputs": []
    },
    {
      "cell_type": "code",
      "metadata": {
        "id": "Ea-VJpoFUYPL",
        "colab_type": "code",
        "colab": {},
        "outputId": "482ebcf1-9bf2-4b57-ae6b-e72bdde804fe"
      },
      "source": [
        "import numpy as np\n",
        "from PIL import Image as pili, ImageOps as piliops\n",
        "from PIL import Image as pili, ImageDraw as pild, ImageFont as pilf\n",
        "from PIL import Image, ImageFont, ImageDraw\n",
        "from os import listdir\n",
        "from os.path import isfile, join\n",
        "from PIL import Image\n",
        "from fpdf import FPDF\n",
        "mypath2 = 'subtitle'\n",
        "onlyfiles2 = ['subtitle/'+f for f in listdir(mypath2) if isfile(join(mypath2, f))]\n",
        "list_im = onlyfiles2\n",
        "Alist = []\n",
        "filename = 1\n",
        "list_im\n",
        "while 0 < len(list_im):\n",
        "    lines = 0\n",
        "    #print(\"new page!\")\n",
        "    num_cols = old_num_cols = 0\n",
        "    while lines < 5 and 0 < len(list_im):\n",
        "        lines += 1\n",
        "        while num_cols == old_num_cols:\n",
        "            num_cols = np.random.randint(4, 6)\n",
        "        old_num_cols = num_cols\n",
        "        window = list_im[:num_cols]\n",
        "        imgs    = [ PIL.Image.open(i) for i in window ]\n",
        "        min_shape = sorted( [(np.sum(i.size), i.size ) for i in imgs])[0][1]\n",
        "        imgs_comb = np.hstack( (np.asarray( i.resize(min_shape) ) for i in imgs ) )\n",
        "        imgs_comb = PIL.Image.fromarray( imgs_comb)\n",
        "        imgs_comb.save( 'pic'+str(filename)+'.png' )\n",
        "        filename += 1\n",
        "       \n",
        "        print(window)\n",
        "        list_im = list_im[num_cols:]"
      ],
      "execution_count": 0,
      "outputs": [
        {
          "output_type": "stream",
          "text": [
            "C:\\Users\\hp\\Anaconda3\\lib\\site-packages\\ipykernel_launcher.py:27: FutureWarning: arrays to stack must be passed as a \"sequence\" type such as list or tuple. Support for non-sequence iterables such as generators is deprecated as of NumPy 1.16 and will raise an error in the future.\n"
          ],
          "name": "stderr"
        },
        {
          "output_type": "stream",
          "text": [
            "['subtitle/A1.jpg', 'subtitle/A2.jpg', 'subtitle/A3.jpg', 'subtitle/A4.jpg', 'subtitle/A5.jpg']\n",
            "['subtitle/A6.jpg', 'subtitle/A7.jpg', 'subtitle/A8.jpg', 'subtitle/A9.jpg']\n",
            "['subtitle/B1.jpg', 'subtitle/B2.jpg', 'subtitle/B3.jpg', 'subtitle/B4.png', 'subtitle/B5.jpg']\n",
            "['subtitle/B6.jpg', 'subtitle/B7.png', 'subtitle/B8.png', 'subtitle/B9.jpg']\n",
            "['subtitle/C1.png', 'subtitle/C2.jpg', 'subtitle/C3.jpg', 'subtitle/C4.jpg', 'subtitle/C5.jpg']\n",
            "['subtitle/C6.jpg', 'subtitle/C7.jpg', 'subtitle/C8.jpg', 'subtitle/C9.jpg', 'subtitle/D1.jpg']\n",
            "['subtitle/D2.jpg', 'subtitle/D3.png', 'subtitle/D4.jpg', 'subtitle/D5.jpg']\n",
            "['subtitle/D6.jpg', 'subtitle/D7.jpg', 'subtitle/D8.jpg', 'subtitle/D9.jpg', 'subtitle/E1.jpg']\n",
            "['subtitle/E2.jpg', 'subtitle/E3.jpg', 'subtitle/E4.jpg', 'subtitle/E5.png']\n",
            "['subtitle/E6.jpg', 'subtitle/E7.png', 'subtitle/E8.jpg', 'subtitle/E9.jpg', 'subtitle/F1.jpg']\n",
            "['subtitle/F2.jpg', 'subtitle/F3.JPG', 'subtitle/F4.jpg', 'subtitle/F5.jpg', 'subtitle/F6.jpg']\n",
            "['subtitle/F7.jpg', 'subtitle/F8.jpg', 'subtitle/F9.jpg', 'subtitle/G1.png']\n",
            "['subtitle/G2.jpg', 'subtitle/G3.jpg', 'subtitle/G4.jpg', 'subtitle/G5.jpg', 'subtitle/G6.jpg']\n",
            "['subtitle/G7.jpg', 'subtitle/G8.jpg', 'subtitle/G9.jpeg', 'subtitle/H1.jpg']\n",
            "['subtitle/H2.jpg', 'subtitle/H3.jpg', 'subtitle/H4.jpg', 'subtitle/H5.jpg', 'subtitle/H6.jpg']\n",
            "['subtitle/H7.jpg', 'subtitle/H8.png', 'subtitle/H9.jpg', 'subtitle/I1.png']\n",
            "['subtitle/I2.jpg', 'subtitle/I3.jpg', 'subtitle/I4.jpg', 'subtitle/I5.jpg', 'subtitle/I6.jpg']\n",
            "['subtitle/I7.jpg', 'subtitle/I8.jpg', 'subtitle/I9.png', 'subtitle/J1.jpg']\n",
            "['subtitle/J2.jpg', 'subtitle/J4.jpg', 'subtitle/J5.jpg', 'subtitle/J6.png', 'subtitle/J7.jpg']\n",
            "['subtitle/J8.jpg', 'subtitle/J9.png', 'subtitle/K1.jpg', 'subtitle/K2.jpg']\n",
            "['subtitle/K3.jpg', 'subtitle/K4.png', 'subtitle/K5.jpg', 'subtitle/K6.jpg', 'subtitle/K7.jpg']\n",
            "['subtitle/K8.jpg', 'subtitle/K9.png', 'subtitle/L1.jpg']\n"
          ],
          "name": "stdout"
        }
      ]
    },
    {
      "cell_type": "code",
      "metadata": {
        "id": "XFH4q5hNUYPN",
        "colab_type": "code",
        "colab": {},
        "outputId": "2498cf6e-eeb9-47e8-ee11-0c4d834bfa8c"
      },
      "source": [
        "list_im = ['hori/pic1.png',\n",
        "            'hori/pic2.png',\n",
        "            'hori/pic3.png',\n",
        "            'hori/pic4.png', 'hori/pic5.png']\n",
        "imgs    = [ PIL.Image.open(i) for i in list_im ]\n",
        "\n",
        "# pick the image which is the smallest, and resize the others to match it (can be arbitrary image shape here)\n",
        "min_shape = sorted( [(np.sum(i.size), i.size ) for i in imgs])[0][1]\n",
        "imgs_comb = np.vstack( (np.asarray( i.resize(min_shape) ) for i in imgs ) )\n",
        "\n",
        "# save that beautiful picture\n",
        "imgs_comb = PIL.Image.fromarray( imgs_comb)\n",
        "imgs_comb.save( 'verti/page1.png' ) "
      ],
      "execution_count": 0,
      "outputs": [
        {
          "output_type": "stream",
          "text": [
            "C:\\Users\\hp\\Anaconda3\\lib\\site-packages\\ipykernel_launcher.py:9: FutureWarning: arrays to stack must be passed as a \"sequence\" type such as list or tuple. Support for non-sequence iterables such as generators is deprecated as of NumPy 1.16 and will raise an error in the future.\n",
            "  if __name__ == '__main__':\n"
          ],
          "name": "stderr"
        }
      ]
    },
    {
      "cell_type": "code",
      "metadata": {
        "id": "w8X_xV5wUYPU",
        "colab_type": "code",
        "colab": {},
        "outputId": "5cbad1ad-c96d-4f7b-c5c2-ea63afb44441"
      },
      "source": [
        "list_im = ['hori/pic6.png',\n",
        "            'hori/pic7.png',\n",
        "            'hori/pic8.png',\n",
        "            'hori/pic9.png']\n",
        "imgs    = [ PIL.Image.open(i) for i in list_im ]\n",
        "\n",
        "# pick the image which is the smallest, and resize the others to match it (can be arbitrary image shape here)\n",
        "min_shape = sorted( [(np.sum(i.size), i.size ) for i in imgs])[0][1]\n",
        "imgs_comb = np.vstack( (np.asarray( i.resize(min_shape) ) for i in imgs ) )\n",
        "\n",
        "# save that beautiful picture\n",
        "imgs_comb = PIL.Image.fromarray( imgs_comb)\n",
        "imgs_comb.save( 'verti/page2.png' ) "
      ],
      "execution_count": 0,
      "outputs": [
        {
          "output_type": "stream",
          "text": [
            "C:\\Users\\hp\\Anaconda3\\lib\\site-packages\\ipykernel_launcher.py:9: FutureWarning: arrays to stack must be passed as a \"sequence\" type such as list or tuple. Support for non-sequence iterables such as generators is deprecated as of NumPy 1.16 and will raise an error in the future.\n",
            "  if __name__ == '__main__':\n"
          ],
          "name": "stderr"
        }
      ]
    },
    {
      "cell_type": "code",
      "metadata": {
        "id": "jV4H8G-jUYPa",
        "colab_type": "code",
        "colab": {},
        "outputId": "222d8465-ed5f-4f28-eb6a-9f07db82bd06"
      },
      "source": [
        "list_im = ['hori/pic10.png',\n",
        "            'hori/pic11.png',\n",
        "            'hori/pic12.png',\n",
        "            'hori/pic13.png']\n",
        "imgs    = [ PIL.Image.open(i) for i in list_im ]\n",
        "\n",
        "# pick the image which is the smallest, and resize the others to match it (can be arbitrary image shape here)\n",
        "min_shape = sorted( [(np.sum(i.size), i.size ) for i in imgs])[0][1]\n",
        "imgs_comb = np.vstack( (np.asarray( i.resize(min_shape) ) for i in imgs ) )\n",
        "\n",
        "# save that beautiful picture\n",
        "imgs_comb = PIL.Image.fromarray( imgs_comb)\n",
        "imgs_comb.save( 'verti/page3.png' ) "
      ],
      "execution_count": 0,
      "outputs": [
        {
          "output_type": "stream",
          "text": [
            "C:\\Users\\hp\\Anaconda3\\lib\\site-packages\\ipykernel_launcher.py:9: FutureWarning: arrays to stack must be passed as a \"sequence\" type such as list or tuple. Support for non-sequence iterables such as generators is deprecated as of NumPy 1.16 and will raise an error in the future.\n",
            "  if __name__ == '__main__':\n"
          ],
          "name": "stderr"
        }
      ]
    },
    {
      "cell_type": "code",
      "metadata": {
        "id": "JnYpN_ZnUYPf",
        "colab_type": "code",
        "colab": {},
        "outputId": "8ace08d7-7bb5-4570-ec8f-462a22513b25"
      },
      "source": [
        "list_im = ['hori/pic14.png',\n",
        "            'hori/pic15.png',\n",
        "            'hori/pic16.png',\n",
        "            'hori/pic17.png']\n",
        "imgs    = [ PIL.Image.open(i) for i in list_im ]\n",
        "\n",
        "# pick the image which is the smallest, and resize the others to match it (can be arbitrary image shape here)\n",
        "min_shape = sorted( [(np.sum(i.size), i.size ) for i in imgs])[0][1]\n",
        "imgs_comb = np.vstack( (np.asarray( i.resize(min_shape) ) for i in imgs ) )\n",
        "\n",
        "# save that beautiful picture\n",
        "imgs_comb = PIL.Image.fromarray( imgs_comb)\n",
        "imgs_comb.save( 'verti/page4.png' ) "
      ],
      "execution_count": 0,
      "outputs": [
        {
          "output_type": "stream",
          "text": [
            "C:\\Users\\hp\\Anaconda3\\lib\\site-packages\\ipykernel_launcher.py:9: FutureWarning: arrays to stack must be passed as a \"sequence\" type such as list or tuple. Support for non-sequence iterables such as generators is deprecated as of NumPy 1.16 and will raise an error in the future.\n",
            "  if __name__ == '__main__':\n"
          ],
          "name": "stderr"
        }
      ]
    },
    {
      "cell_type": "code",
      "metadata": {
        "id": "t5EQizYWUYPk",
        "colab_type": "code",
        "colab": {},
        "outputId": "3a8f61e1-906c-45c1-c71a-84d2df2acb40"
      },
      "source": [
        "list_im = ['hori/pic18.png',\n",
        "            'hori/pic19.png',\n",
        "            'hori/pic20.png',\n",
        "            'hori/pic21.png', 'hori/pic22.png']\n",
        "imgs    = [ PIL.Image.open(i) for i in list_im ]\n",
        "\n",
        "# pick the image which is the smallest, and resize the others to match it (can be arbitrary image shape here)\n",
        "min_shape = sorted( [(np.sum(i.size), i.size ) for i in imgs])[0][1]\n",
        "imgs_comb = np.vstack( (np.asarray( i.resize(min_shape) ) for i in imgs ) )\n",
        "\n",
        "# save that beautiful picture\n",
        "imgs_comb = PIL.Image.fromarray( imgs_comb)\n",
        "imgs_comb.save( 'verti/page5.png' ) "
      ],
      "execution_count": 0,
      "outputs": [
        {
          "output_type": "stream",
          "text": [
            "C:\\Users\\hp\\Anaconda3\\lib\\site-packages\\ipykernel_launcher.py:9: FutureWarning: arrays to stack must be passed as a \"sequence\" type such as list or tuple. Support for non-sequence iterables such as generators is deprecated as of NumPy 1.16 and will raise an error in the future.\n",
            "  if __name__ == '__main__':\n"
          ],
          "name": "stderr"
        }
      ]
    },
    {
      "cell_type": "code",
      "metadata": {
        "id": "-kaZAEJwUYPq",
        "colab_type": "code",
        "colab": {},
        "outputId": "279ef3a0-4160-4514-ac4a-311a8b199939"
      },
      "source": [
        "from PIL import Image\n",
        "from fpdf import FPDF\n",
        "\n",
        "#pdf = FPDF()\n",
        "cover = Image.open('verti/page2.png')\n",
        "width, height = cover.size\n",
        "pdf = FPDF(unit = \"pt\", format = [width+50, height])\n",
        "# imagelist is the list with all image filenames\n",
        "imagelist = ['verti/page1.png',\n",
        "             'verti/page2.png',\n",
        "             'verti/page3.png',\n",
        "             'verti/page4.png', 'verti/page5.png'\n",
        "            ]\n",
        "for image in imagelist:\n",
        "    pdf.add_page()\n",
        "    pdf.image(image, 0, 0, width, height)\n",
        "pdf.output(\"verti/page1.pdf\", \"F\")\n",
        "\n"
      ],
      "execution_count": 0,
      "outputs": [
        {
          "output_type": "execute_result",
          "data": {
            "text/plain": [
              "''"
            ]
          },
          "metadata": {
            "tags": []
          },
          "execution_count": 72
        }
      ]
    },
    {
      "cell_type": "code",
      "metadata": {
        "id": "EVikyZNGUYPs",
        "colab_type": "code",
        "colab": {}
      },
      "source": [
        ""
      ],
      "execution_count": 0,
      "outputs": []
    }
  ]
}